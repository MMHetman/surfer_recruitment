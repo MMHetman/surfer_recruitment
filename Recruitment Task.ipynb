{
 "cells": [
  {
   "cell_type": "markdown",
   "metadata": {},
   "source": [
    "#### Author: Michał Hetmańczuk\n",
    "# Recruitment Task\n",
    "## Task 1: Phrase scoring\n"
   ]
  },
  {
   "cell_type": "markdown",
   "metadata": {},
   "source": [
    "### Used libraries: "
   ]
  },
  {
   "cell_type": "code",
   "execution_count": 1,
   "metadata": {
    "colab": {
     "base_uri": "https://localhost:8080/",
     "height": 521
    },
    "colab_type": "code",
    "id": "hGlp2USa98Z7",
    "outputId": "2ba94bdd-c6f3-4f06-8318-7a24b53730f2"
   },
   "outputs": [],
   "source": [
    "import ast\n",
    "import math\n",
    "import pandas as pd"
   ]
  },
  {
   "cell_type": "markdown",
   "metadata": {},
   "source": [
    "### Importing dataset:"
   ]
  },
  {
   "cell_type": "code",
   "execution_count": 2,
   "metadata": {
    "pycharm": {
     "name": "#%%\n"
    }
   },
   "outputs": [
    {
     "data": {
      "text/plain": "   scrape_id   scrape_keyword  crawled_page_id  \\\n0     244568  seo course 2020          3242198   \n1     244568  seo course 2020          3242200   \n2     244568  seo course 2020          3242201   \n3     244568  seo course 2020          3242199   \n4     244568  seo course 2020          3242195   \n\n                                    crawled_page_url  \\\n0  https://www.quicksprout.com/best-seo-courses-a...   \n1  https://digitaldefynd.com/best-seo-courses-tra...   \n2  https://www.trumplearning.com/best-seo-course-...   \n3                 https://ippei.com/best-seo-course/   \n4  https://www.searchenginejournal.com/best-free-...   \n\n                                               words  \\\n0  [\"our\", \"content\", \"is\", \"reader\", \"supported\"...   \n1  [\"skip\", \"to\", \"content\", \"trending\", \"10\", \"b...   \n2  [\"toggle\", \"navigation\", \"contact\", \"us\", \"hom...   \n3  [\"currently\", \"set\", \"to\", \"index\", \"currently...   \n4  [\"seo\", \"all\", \"seo\", \"ask\", \"an\", \"seo\", \"beg...   \n\n                                              scores  \n0  [4, 4, 4, 4, 4, 4, 4, 4, 4, 4, 4, 4, 4, 4, 4, ...  \n1  [3, 3, 3, 8, 1, 1, 1, 1, 1, 1, 1, 1, 1, 1, 1, ...  \n2  [6, 6, 1, 1, 1, 0, 0, 0, 0, 0, 0, 0, 0, 0, 0, ...  \n3  [0, 0, 0, 0, 0, 0, 0, 0, 10, 10, 10, 7, 7, 7, ...  \n4  [0, 0, 0, 0, 0, 0, 0, 0, 0, 0, 0, 0, 0, 0, 0, ...  ",
      "text/html": "<div>\n<style scoped>\n    .dataframe tbody tr th:only-of-type {\n        vertical-align: middle;\n    }\n\n    .dataframe tbody tr th {\n        vertical-align: top;\n    }\n\n    .dataframe thead th {\n        text-align: right;\n    }\n</style>\n<table border=\"1\" class=\"dataframe\">\n  <thead>\n    <tr style=\"text-align: right;\">\n      <th></th>\n      <th>scrape_id</th>\n      <th>scrape_keyword</th>\n      <th>crawled_page_id</th>\n      <th>crawled_page_url</th>\n      <th>words</th>\n      <th>scores</th>\n    </tr>\n  </thead>\n  <tbody>\n    <tr>\n      <th>0</th>\n      <td>244568</td>\n      <td>seo course 2020</td>\n      <td>3242198</td>\n      <td>https://www.quicksprout.com/best-seo-courses-a...</td>\n      <td>[\"our\", \"content\", \"is\", \"reader\", \"supported\"...</td>\n      <td>[4, 4, 4, 4, 4, 4, 4, 4, 4, 4, 4, 4, 4, 4, 4, ...</td>\n    </tr>\n    <tr>\n      <th>1</th>\n      <td>244568</td>\n      <td>seo course 2020</td>\n      <td>3242200</td>\n      <td>https://digitaldefynd.com/best-seo-courses-tra...</td>\n      <td>[\"skip\", \"to\", \"content\", \"trending\", \"10\", \"b...</td>\n      <td>[3, 3, 3, 8, 1, 1, 1, 1, 1, 1, 1, 1, 1, 1, 1, ...</td>\n    </tr>\n    <tr>\n      <th>2</th>\n      <td>244568</td>\n      <td>seo course 2020</td>\n      <td>3242201</td>\n      <td>https://www.trumplearning.com/best-seo-course-...</td>\n      <td>[\"toggle\", \"navigation\", \"contact\", \"us\", \"hom...</td>\n      <td>[6, 6, 1, 1, 1, 0, 0, 0, 0, 0, 0, 0, 0, 0, 0, ...</td>\n    </tr>\n    <tr>\n      <th>3</th>\n      <td>244568</td>\n      <td>seo course 2020</td>\n      <td>3242199</td>\n      <td>https://ippei.com/best-seo-course/</td>\n      <td>[\"currently\", \"set\", \"to\", \"index\", \"currently...</td>\n      <td>[0, 0, 0, 0, 0, 0, 0, 0, 10, 10, 10, 7, 7, 7, ...</td>\n    </tr>\n    <tr>\n      <th>4</th>\n      <td>244568</td>\n      <td>seo course 2020</td>\n      <td>3242195</td>\n      <td>https://www.searchenginejournal.com/best-free-...</td>\n      <td>[\"seo\", \"all\", \"seo\", \"ask\", \"an\", \"seo\", \"beg...</td>\n      <td>[0, 0, 0, 0, 0, 0, 0, 0, 0, 0, 0, 0, 0, 0, 0, ...</td>\n    </tr>\n  </tbody>\n</table>\n</div>"
     },
     "execution_count": 2,
     "metadata": {},
     "output_type": "execute_result"
    }
   ],
   "source": [
    "scrapes_dataset = pd.read_csv('scrapes.csv')\n",
    "scrapes_dataset.head()"
   ]
  },
  {
   "cell_type": "markdown",
   "source": [
    "### Removing erroneous entries from the data set:"
   ],
   "metadata": {
    "collapsed": false,
    "pycharm": {
     "name": "#%% md\n"
    }
   }
  },
  {
   "cell_type": "code",
   "execution_count": 3,
   "metadata": {
    "colab": {
     "base_uri": "https://localhost:8080/",
     "height": 86
    },
    "colab_type": "code",
    "id": "raG4pGK2BBGP",
    "outputId": "53412077-db31-45a3-9311-7228a1319a93"
   },
   "outputs": [
    {
     "name": "stdout",
     "output_type": "stream",
     "text": [
      "{'complex_terms': 3464, 'inconsistent_scores': 0, 'empty_words': 0, 'empty_words_list': 1}\n"
     ]
    }
   ],
   "source": [
    "# check if word is empty or contains blank chars (many words in one word)\n",
    "def check_if_word_proper(word, word_index, logs_set, broken_indices_set):\n",
    "    if ' ' in word:\n",
    "        logs_set['complex_terms'] += 1\n",
    "        broken_indices_set.add(word_index)\n",
    "    if not word:\n",
    "        logs_set['empty_words'] += 1\n",
    "        broken_indices_set.add(word_index)\n",
    "\n",
    "# filter word and score at given position\n",
    "def filter_wrong_words(words_list, scores_list, broken_indices_set):\n",
    "    for i, word in enumerate(words_list):\n",
    "      words_list[i] = word.strip()\n",
    "      check_if_word_proper(word, i, dataset_errors_counts, broken_indices_set)\n",
    "    filtered_words = []\n",
    "    filtered_scores = []\n",
    "    proper_indices = set(range(len(words_list))) - broken_indices_set\n",
    "    for word_index in proper_indices:\n",
    "        filtered_words.append(words_list[word_index])\n",
    "        filtered_scores.append(scores_list[word_index])\n",
    "    return filtered_words, filtered_scores\n",
    "\n",
    "# remove row if amount of words doesn't match amount of scores or list of word is empty\n",
    "def remove_row_if_broken(words_list, scores_list, logs_set, dataset):\n",
    "    if not words_list:\n",
    "      logs_set['empty_words_list'] += 1\n",
    "      dataset.drop(index, inplace=True)\n",
    "    elif len(words_list) != len(scores_list):\n",
    "      logs_set['inconsistent_scores'] += 1\n",
    "      dataset.drop(index, inplace=True)\n",
    "\n",
    "# searching the dataset\n",
    "dataset_errors_counts = \\\n",
    "    {'complex_terms': 0, 'inconsistent_scores': 0,\n",
    "     'empty_words': 0, 'empty_words_list' : 0}\n",
    "\n",
    "for index, row in scrapes_dataset.iterrows():\n",
    "    words = ast.literal_eval(row['words'])\n",
    "    words = [n.strip() for n in words]\n",
    "    scores = ast.literal_eval(row['scores'])\n",
    "    broken_indices = set()\n",
    "    filtered_words, filtered_scores = filter_wrong_words(words, scores, broken_indices)\n",
    "    scrapes_dataset.at[index, 'words'] = str(filtered_words)\n",
    "    scrapes_dataset.at[index, 'scores'] = str(filtered_scores)\n",
    "    remove_row_if_broken(filtered_words, filtered_scores, dataset_errors_counts, scrapes_dataset)\n",
    "\n",
    "print(dataset_errors_counts)"
   ]
  },
  {
   "cell_type": "markdown",
   "source": [
    "### Scrape Keywords:"
   ],
   "metadata": {
    "collapsed": false,
    "pycharm": {
     "name": "#%% md\n"
    }
   }
  },
  {
   "cell_type": "code",
   "execution_count": 4,
   "metadata": {},
   "outputs": [
    {
     "name": "stdout",
     "output_type": "stream",
     "text": [
      "{'roofing company milwaukee', 'npl', 'kosmetyczka puławy', 'seo course 2020', 'content', 'seo', 'content marketing planner', 'ślusarz warszawa', 'kosmetyczka', 'example', 'pozycjonowanie stron'}\n"
     ]
    }
   ],
   "source": [
    "scrape_keywords_set = set(scrapes_dataset['scrape_keyword'])\n",
    "print(scrape_keywords_set)"
   ]
  },
  {
   "cell_type": "markdown",
   "source": [
    "### Plot scores distribution:"
   ],
   "metadata": {
    "collapsed": false,
    "pycharm": {
     "name": "#%% md\n"
    }
   }
  },
  {
   "cell_type": "code",
   "execution_count": 5,
   "metadata": {},
   "outputs": [
    {
     "data": {
      "text/plain": "<matplotlib.axes._subplots.AxesSubplot at 0x7f619fa6ffd0>"
     },
     "execution_count": 5,
     "metadata": {},
     "output_type": "execute_result"
    },
    {
     "data": {
      "text/plain": "<Figure size 432x288 with 1 Axes>",
      "image/png": "[encoded data removed]"
     },
     "metadata": {
      "needs_background": "light"
     },
     "output_type": "display_data"
    }
   ],
   "source": [
    "all_scores_list = [score for _, row in scrapes_dataset.iterrows() for score in ast.literal_eval(row['scores'])]\n",
    "\n",
    "pd.Series(all_scores_list).hist()"
   ]
  },
  {
   "cell_type": "markdown",
   "source": [
    "### Find all ngrams:\n",
    "For n in <1,4>"
   ],
   "metadata": {
    "collapsed": false,
    "pycharm": {
     "name": "#%% md\n"
    }
   }
  },
  {
   "cell_type": "markdown",
   "source": [
    "#### Method finding phrases grouped by scrape:\n",
    "Phrase score is calculated as an average of component words scores"
   ],
   "metadata": {
    "collapsed": false,
    "pycharm": {
     "name": "#%% md\n"
    }
   }
  },
  {
   "cell_type": "code",
   "execution_count": 6,
   "metadata": {
    "pycharm": {
     "name": "#%%\n"
    }
   },
   "outputs": [],
   "source": [
    "def get_phrases(words_list, scores_list, scrape_id):\n",
    "  phrases_list = []\n",
    "  for i in range(len(words)):\n",
    "    phrase = []\n",
    "    score_sum = 0\n",
    "    for j in range(4):\n",
    "      if i + j < len(words):\n",
    "          phrase.append(words_list[i+j])\n",
    "          score_sum += scores_list[i + j]\n",
    "          phrases_list.append((scrape_id, ' '.join(phrase), score_sum/(j+1)))\n",
    "  return phrases_list\n"
   ]
  },
  {
   "cell_type": "markdown",
   "source": [
    "### Generate dataframe with found phrases:"
   ],
   "metadata": {
    "collapsed": false,
    "pycharm": {
     "name": "#%% md\n"
    }
   }
  },
  {
   "cell_type": "code",
   "execution_count": 7,
   "metadata": {
    "colab": {},
    "colab_type": "code",
    "id": "kGsu0QkMKMFb"
   },
   "outputs": [],
   "source": [
    "phrases_data = []\n",
    "for name, group in scrapes_dataset.groupby('scrape_id'):\n",
    "  for index, row in group.iterrows():\n",
    "    words = ast.literal_eval(row['words'])\n",
    "    words = [n.strip() for n in words]\n",
    "    scores = ast.literal_eval(row['scores'])\n",
    "    phrases_data += get_phrases(words, scores, name)"
   ]
  },
  {
   "cell_type": "code",
   "execution_count": 8,
   "metadata": {
    "colab": {},
    "colab_type": "code",
    "id": "Wkj8QaYJhAc6"
   },
   "outputs": [],
   "source": [
    "phrases_df = pd.DataFrame(phrases_data, columns=['scrape_id', 'phrase', 'score'])"
   ]
  },
  {
   "cell_type": "markdown",
   "source": [
    "### Plot phrases scores distribution:\n",
    "As expected, the distribution of phrases scores is similar to the distribution of words scores"
   ],
   "metadata": {
    "collapsed": false,
    "pycharm": {
     "name": "#%% md\n"
    }
   }
  },
  {
   "cell_type": "code",
   "execution_count": 9,
   "metadata": {},
   "outputs": [
    {
     "data": {
      "text/plain": "<matplotlib.axes._subplots.AxesSubplot at 0x7f61a0486340>"
     },
     "execution_count": 9,
     "metadata": {},
     "output_type": "execute_result"
    },
    {
     "data": {
      "text/plain": "<Figure size 432x288 with 1 Axes>",
      "image/png": "[encoded data removed]"
     },
     "metadata": {
      "needs_background": "light"
     },
     "output_type": "display_data"
    }
   ],
   "source": [
    "phrases_df['score'].hist()"
   ]
  },
  {
   "cell_type": "markdown",
   "source": [
    "### Calculate TF-IDF measures:\n",
    "\n",
    "It was decided to score each phrase prominence using modified tfidf measure.\n",
    "The modification consists in replacing the term frequency with the average phrase score.\n",
    "The measures were counted treating the scrape as one document."
   ],
   "metadata": {
    "collapsed": false,
    "pycharm": {
     "name": "#%% md\n"
    }
   }
  },
  {
   "cell_type": "code",
   "execution_count": 10,
   "metadata": {
    "colab": {},
    "colab_type": "code",
    "id": "_R4STKkmWpcJ"
   },
   "outputs": [],
   "source": [
    "def calculate_phrase_sum_per_scrape_df(phrases_dataframe):\n",
    "    return phrases_dataframe.groupby(['scrape_id', 'phrase'])\\\n",
    "        .sum()\\\n",
    "        .sort_values(by = 'score', ascending=False)\\\n",
    "        .reset_index()\n",
    "\n",
    "def calculate_sum_total_per_scrape_df(terms_scores_sum_per_scrape_df):\n",
    "    sum_total_per_scrape = terms_scores_sum_per_scrape_df.groupby(['scrape_id'])\\\n",
    "        .sum().sort_values(by = 'score', ascending=False)\\\n",
    "        .reset_index()\n",
    "    sum_total_per_scrape.rename(columns = {'score': 'score_sum'}, inplace = True)\n",
    "    return sum_total_per_scrape\n",
    "\n",
    "def calculate_term_frequency_df(sum_total_scores_per_scrape_df, terms_scores_sum_per_scrape_df):\n",
    "    term_frequencies = terms_scores_sum_per_scrape_df\\\n",
    "        .join(other = sum_total_scores_per_scrape_df.set_index('scrape_id'), on = 'scrape_id')\n",
    "    term_frequencies['tf'] = term_frequencies.score / term_frequencies.score_sum\n",
    "    return term_frequencies\n",
    "\n",
    "def calculate_inverse_document_frequency_df(terms_scores_sum_per_scrape_df, scrapes_df):\n",
    "    inverse_document_frequencies = \\\n",
    "        terms_scores_sum_per_scrape_df[['phrase', 'scrape_id']]\\\n",
    "            .groupby(['phrase']).count()\\\n",
    "            .sort_values(by = 'scrape_id', ascending=False)\\\n",
    "            .reset_index().rename(columns = {'scrape_id': 'occurances'})\n",
    "    inverse_document_frequencies['idf'] = len(scrapes_df['scrape_id'].unique()) / inverse_document_frequencies.occurances\n",
    "    inverse_document_frequencies['idf'] = inverse_document_frequencies['idf'].apply(math.log)\n",
    "    return inverse_document_frequencies\n",
    "\n",
    "def calculate_tfidf_dataframe(phrases_dataframe):\n",
    "    terms_scores_sum_per_scrape_df = calculate_phrase_sum_per_scrape_df(phrases_dataframe)\n",
    "    sum_total_scores_per_scrape_df = calculate_sum_total_per_scrape_df(terms_scores_sum_per_scrape_df)\n",
    "    term_frequency_df = calculate_term_frequency_df(sum_total_scores_per_scrape_df, terms_scores_sum_per_scrape_df)\n",
    "    inverse_document_frequency_df = calculate_inverse_document_frequency_df(terms_scores_sum_per_scrape_df, scrapes_dataset)\n",
    "    tfidf_df = \\\n",
    "        term_frequency_df\\\n",
    "            .join(other = inverse_document_frequency_df.set_index('phrase'), on = 'phrase')\n",
    "    tfidf_df['tfidf'] = tfidf_df.tf * tfidf_df.idf\n",
    "    return tfidf_df"
   ]
  },
  {
   "cell_type": "markdown",
   "source": [
    "#### Calculate tfidfs and get the results:\n",
    "The results seem plausible. There are repetitions for ngrams with different n (f.e. {abc, ab, bc}),\n",
    "but due to the differing tfidf scores, the result is left as it is, however it is possible to filter out overlapping ngrams."
   ],
   "metadata": {
    "collapsed": false,
    "pycharm": {
     "name": "#%% md\n"
    }
   }
  },
  {
   "cell_type": "code",
   "execution_count": 11,
   "metadata": {
    "colab": {},
    "colab_type": "code",
    "id": "t8Sna8KMOCGu",
    "pycharm": {
     "name": "#%%\n"
    }
   },
   "outputs": [],
   "source": [
    "phrases_prominence_df = calculate_tfidf_dataframe(phrases_df)\n",
    "\n",
    "top_prominence_phrases_df = \\\n",
    "    phrases_prominence_df.groupby('scrape_id').apply(lambda x: x.nlargest(10, 'tfidf'))\\\n",
    "    .reset_index(drop=True)\\\n",
    "        .join(scrapes_dataset[['scrape_id', 'scrape_keyword']].drop_duplicates().set_index('scrape_id'), on = 'scrape_id')\n",
    "\n",
    "top_prominence_phrases_df.to_csv('results.csv')\n"
   ]
  },
  {
   "cell_type": "markdown",
   "source": [
    "### Plot the phrases prominence scores distribution:\n",
    "As expected, the phrases prominence scores distribution is long tailed."
   ],
   "metadata": {
    "collapsed": false,
    "pycharm": {
     "name": "#%% md\n"
    }
   }
  },
  {
   "cell_type": "code",
   "execution_count": 12,
   "metadata": {
    "pycharm": {
     "name": "#%%\n"
    }
   },
   "outputs": [
    {
     "data": {
      "text/plain": "<matplotlib.axes._subplots.AxesSubplot at 0x7f61892a83d0>"
     },
     "execution_count": 12,
     "metadata": {},
     "output_type": "execute_result"
    },
    {
     "data": {
      "text/plain": "<Figure size 432x288 with 1 Axes>",
      "image/png": "[encoded data removed]"
     },
     "metadata": {
      "needs_background": "light"
     },
     "output_type": "display_data"
    }
   ],
   "source": [
    "top_prominence_phrases_df['tfidf'].hist()"
   ]
  }
 ],
 "metadata": {
  "colab": {
   "name": "Untitled1.ipynb",
   "provenance": []
  },
  "kernelspec": {
   "display_name": "Python 3",
   "language": "python",
   "name": "python3"
  },
  "language_info": {
   "codemirror_mode": {
    "name": "ipython",
    "version": 3
   },
   "file_extension": ".py",
   "mimetype": "text/x-python",
   "name": "python",
   "nbconvert_exporter": "python",
   "pygments_lexer": "ipython3",
   "version": "3.8.3"
  }
 },
 "nbformat": 4,
 "nbformat_minor": 1
}